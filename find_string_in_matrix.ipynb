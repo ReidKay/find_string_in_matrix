{
 "cells": [
  {
   "cell_type": "code",
   "execution_count": 1,
   "metadata": {},
   "outputs": [],
   "source": [
    "def string_in_matrix(board,string,position,visited):\n",
    "    #Recursive function to look for string\n",
    "    \n",
    "    #Base case\n",
    "    if len(string)==1:\n",
    "        if string[0]==board[position[0]][position[1]]:\n",
    "            return True\n",
    "        else:\n",
    "            return False\n",
    "    #Non base case    \n",
    "    directions = [(1,0),(-1,0),(0,1),(0,-1)]\n",
    "    if board[position[0]][position[1]]==string[0]:\n",
    "        visited.add(position)\n",
    "        for direction in directions:\n",
    "            new_position =((position[0]+direction[0]),(position[1]+direction[1]))\n",
    "            if new_position not in visited:\n",
    "                if new_position[0]>=0 and new_position[0]<len(board):\n",
    "                    if new_position[1]>=0 and new_position[1]<len(board[0]):\n",
    "                        found = string_in_matrix(board,string[1:],new_position,visited)\n",
    "                        if found == True:\n",
    "                            return True\n",
    "        else:\n",
    "            return False\n",
    "\n",
    "\n",
    "def string_finder_starter(board,string):\n",
    "    #Function to make calls to string_in_matrix and summarize results\n",
    "    \n",
    "    if string == '':\n",
    "        return False\n",
    "    \n",
    "    #Setting stuff up\n",
    "    results = []\n",
    "    for row in range(len(board)):\n",
    "        for col in range(len(board[0])):\n",
    "            visited = set()\n",
    "            start = (row,col)\n",
    "            results.append(string_in_matrix(board,string,start,visited))\n",
    "    #Summarize results\n",
    "    if any(results):\n",
    "        return True\n",
    "    else:\n",
    "        return False"
   ]
  },
  {
   "cell_type": "code",
   "execution_count": 2,
   "metadata": {},
   "outputs": [
    {
     "data": {
      "text/plain": [
       "[['a', 'b', 'c', 'd'], ['e', 'f', 'g', 'h'], ['i', 'j', 'k', 'b']]"
      ]
     },
     "execution_count": 2,
     "metadata": {},
     "output_type": "execute_result"
    }
   ],
   "source": [
    "#Define board        \n",
    "board = [['a','b','c','d'],['e','f','g','h'],['i','j','k','b']]\n",
    "board"
   ]
  },
  {
   "cell_type": "code",
   "execution_count": 3,
   "metadata": {},
   "outputs": [
    {
     "data": {
      "text/plain": [
       "True"
      ]
     },
     "execution_count": 3,
     "metadata": {},
     "output_type": "execute_result"
    }
   ],
   "source": [
    "#Test for string 'bfg'\n",
    "string = 'bfg'\n",
    "string_finder_starter(board,string)"
   ]
  },
  {
   "cell_type": "code",
   "execution_count": 4,
   "metadata": {},
   "outputs": [
    {
     "data": {
      "text/plain": [
       "False"
      ]
     },
     "execution_count": 4,
     "metadata": {},
     "output_type": "execute_result"
    }
   ],
   "source": [
    "#test for string 'bab' - tests to make sure does not reuse position\n",
    "string = 'bab'\n",
    "string_finder_starter(board,string)"
   ]
  },
  {
   "cell_type": "code",
   "execution_count": 5,
   "metadata": {},
   "outputs": [
    {
     "data": {
      "text/plain": [
       "False"
      ]
     },
     "execution_count": 5,
     "metadata": {},
     "output_type": "execute_result"
    }
   ],
   "source": [
    "#Test for string ''\n",
    "string = ''\n",
    "string_finder_starter(board,string)"
   ]
  },
  {
   "cell_type": "code",
   "execution_count": null,
   "metadata": {
    "collapsed": true
   },
   "outputs": [],
   "source": []
  }
 ],
 "metadata": {
  "kernelspec": {
   "display_name": "Python 2",
   "language": "python",
   "name": "python2"
  },
  "language_info": {
   "codemirror_mode": {
    "name": "ipython",
    "version": 2
   },
   "file_extension": ".py",
   "mimetype": "text/x-python",
   "name": "python",
   "nbconvert_exporter": "python",
   "pygments_lexer": "ipython2",
   "version": "2.7.13"
  }
 },
 "nbformat": 4,
 "nbformat_minor": 2
}
